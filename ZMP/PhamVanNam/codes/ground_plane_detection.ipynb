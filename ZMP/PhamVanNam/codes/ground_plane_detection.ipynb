{
 "cells": [
  {
   "cell_type": "markdown",
   "id": "suburban-invitation",
   "metadata": {},
   "source": [
    "Import libraries"
   ]
  },
  {
   "cell_type": "code",
   "execution_count": 1,
   "id": "insured-hamburg",
   "metadata": {},
   "outputs": [],
   "source": [
    "import numpy as np\n",
    "import matplotlib.pyplot as plt"
   ]
  },
  {
   "cell_type": "markdown",
   "id": "norwegian-playing",
   "metadata": {},
   "source": [
    "Read cloud point from text file"
   ]
  },
  {
   "cell_type": "code",
   "execution_count": 2,
   "id": "impossible-departure",
   "metadata": {},
   "outputs": [
    {
     "name": "stdout",
     "output_type": "stream",
     "text": [
      "(721, 4)\n",
      "[[1.093610e-16 1.786000e+00 0.000000e+00 1.606775e-02]\n",
      " [7.757964e-03 1.777983e+00 0.000000e+00 1.599145e-02]\n",
      " [1.554196e-02 1.780932e+00 0.000000e+00 1.611353e-02]\n",
      " [2.332566e-02 1.781847e+00 0.000000e+00 1.609827e-02]\n",
      " [3.130962e-02 1.793727e+00 0.000000e+00 1.651026e-02]\n",
      " [4.020483e-02 1.842561e+00 0.000000e+00 1.661707e-02]\n",
      " [4.994562e-02 1.907346e+00 0.000000e+00 1.742580e-02]\n",
      " [5.906149e-02 1.933098e+00 0.000000e+00 1.736477e-02]\n",
      " [6.857751e-02 1.963803e+00 0.000000e+00 1.646448e-02]\n",
      " [7.793073e-02 1.983470e+00 0.000000e+00 1.701381e-02]]\n"
     ]
    }
   ],
   "source": [
    "points= np.genfromtxt('2d_pointcloud.txt', delimiter=' ', skip_header=1)\n",
    "print(points.shape)\n",
    "print(points[:10])"
   ]
  },
  {
   "cell_type": "code",
   "execution_count": 3,
   "id": "minimal-swaziland",
   "metadata": {},
   "outputs": [],
   "source": [
    "# Make it smaller for testing\n",
    "# points= points[500:]"
   ]
  },
  {
   "cell_type": "markdown",
   "id": "constant-auction",
   "metadata": {},
   "source": [
    "Trim and visualize data"
   ]
  },
  {
   "cell_type": "code",
   "execution_count": 4,
   "id": "forbidden-setup",
   "metadata": {},
   "outputs": [
    {
     "data": {
      "text/plain": [
       "[<matplotlib.lines.Line2D at 0x1a1d47beee0>]"
      ]
     },
     "execution_count": 4,
     "metadata": {},
     "output_type": "execute_result"
    },
    {
     "data": {
      "image/png": "[encoded data removed]",
      "text/plain": [
       "<Figure size 432x288 with 1 Axes>"
      ]
     },
     "metadata": {
      "needs_background": "light"
     },
     "output_type": "display_data"
    }
   ],
   "source": [
    "# Remove points with intensity = 0\n",
    "to_delete= []\n",
    "for i in range(len(points)):\n",
    "    if points[i][3] <= 0:\n",
    "        to_delete.append(i)\n",
    "\n",
    "# print(to_delete)\n",
    "        \n",
    "for i in range(len(to_delete) - 1, -1, -1):\n",
    "    points= np.delete(points, to_delete[i], axis= 0)\n",
    "\n",
    "# Plot the point cloud (x, y only)\n",
    "plt.axes().set_aspect('equal', 'datalim')\n",
    "plt.plot(points[:, 0:1], points[:, 1:2], 'o', markersize= 1)"
   ]
  },
  {
   "cell_type": "markdown",
   "id": "oriental-jamaica",
   "metadata": {},
   "source": [
    "Because the cloud point is a 2D image (z is always 0), use a line to represent the ground plane."
   ]
  },
  {
   "cell_type": "markdown",
   "id": "realistic-report",
   "metadata": {},
   "source": [
    "Use RANSAC to find the 2 points that form the ground line."
   ]
  },
  {
   "cell_type": "code",
   "execution_count": 5,
   "id": "wired-hungary",
   "metadata": {},
   "outputs": [],
   "source": [
    "# Threshold distance value to decide if the point is on the plane \n",
    "threshold= 0.25\n",
    "# Threshold value of the percentage of inliers over the whole cloud point to consider if this is the ground plane\n",
    "inlier_threshold= 0.25\n",
    "\n",
    "n= len(points)\n",
    "result= (-1, -1)\n",
    "candidates= []\n",
    "D_min= 1000000"
   ]
  },
  {
   "cell_type": "code",
   "execution_count": 6,
   "id": "fantastic-exposure",
   "metadata": {},
   "outputs": [
    {
     "data": {
      "text/plain": [
       "(array([ 2.631401  , -5.109181  ,  0.        ,  0.01278706]),\n",
       " array([ 1.579977  , -5.167871  ,  0.        ,  0.01326009]))"
      ]
     },
     "execution_count": 6,
     "metadata": {},
     "output_type": "execute_result"
    }
   ],
   "source": [
    "# Repeat these steps to find the ground line:\n",
    "# - In the cloud point, take two points to form a line.\n",
    "# - Calculate the distance from every point in the cloud point to that line.\n",
    "# - If that distance is smaller than threshold, count it as a inlier.\n",
    "# - If the percentage of inliers is larger than inlier_threshold, do the following:\n",
    "#     - Calculate the total distance between that line and every inlier\n",
    "#     - Among the lines we got, the one with the minimum mentioned total distance is the result\n",
    "\n",
    "for i in range(n):\n",
    "    p1= points[i]\n",
    "    for j in range(i + 1, n):        \n",
    "        p2= points[j]\n",
    "        inlier_count= 0\n",
    "        inliers= []\n",
    "        d_total= 0\n",
    "        for p3 in points:            \n",
    "            d= abs((p2[0] - p1[0]) * (p1[1] - p3[1]) - (p1[0] - p3[0]) * (p2[1] - p1[1])) / np.sqrt(np.square(p2[0] - p1[0]) + np.square(p2[1] - p1[1]))\n",
    "            if d <= threshold:\n",
    "                inlier_count+= 1\n",
    "                inliers.append(p3)\n",
    "                d_total+= d\n",
    "        if inlier_count > n * inlier_threshold:\n",
    "            candidates.append([(p1, p2), d_total])\n",
    "            if d_total < D_min:\n",
    "                result= (p1, p2)\n",
    "                D_min= d_total\n",
    "result"
   ]
  },
  {
   "cell_type": "code",
   "execution_count": 7,
   "id": "fitting-collapse",
   "metadata": {},
   "outputs": [
    {
     "name": "stdout",
     "output_type": "stream",
     "text": [
      "[ 2.631401 -5.109181]\n",
      "[ 1.579977 -5.167871]\n"
     ]
    }
   ],
   "source": [
    "# Take the 2 points of ground line to form a line\n",
    "p1= result[0]\n",
    "p2= result[1]\n",
    "p1_2d= np.array([p1[0], p1[1]])\n",
    "p2_2d= np.array([p2[0], p2[1]])\n",
    "print(p1_2d)\n",
    "print(p2_2d)"
   ]
  },
  {
   "cell_type": "markdown",
   "id": "coupled-duplicate",
   "metadata": {},
   "source": [
    "Visualize the ground line"
   ]
  },
  {
   "cell_type": "code",
   "execution_count": 8,
   "id": "numerous-austria",
   "metadata": {},
   "outputs": [
    {
     "data": {
      "text/plain": [
       "[<matplotlib.lines.Line2D at 0x1a1d581a7c0>]"
      ]
     },
     "execution_count": 8,
     "metadata": {},
     "output_type": "execute_result"
    },
    {
     "data": {
      "image/png": "[encoded data removed]",
      "text/plain": [
       "<Figure size 432x288 with 1 Axes>"
      ]
     },
     "metadata": {
      "needs_background": "light"
     },
     "output_type": "display_data"
    }
   ],
   "source": [
    "# Plot the point cloud (x, y only)\n",
    "plt.axes().set_aspect('equal', 'datalim')\n",
    "plt.plot(points[:, 0:1], points[:, 1:2], 'o', markersize= 1)\n",
    "plt.plot([p1[0], p2[0]], [p1[1], p2[1]])"
   ]
  },
  {
   "cell_type": "markdown",
   "id": "marked-discharge",
   "metadata": {},
   "source": [
    "Function is_on_ground_plane(point, threshold) is the final answer to this problem"
   ]
  },
  {
   "cell_type": "code",
   "execution_count": 9,
   "id": "located-architect",
   "metadata": {},
   "outputs": [],
   "source": [
    "def is_on_ground_plane(point, threshold):\n",
    "    p3= np.array([point[0], point[1]])\n",
    "    d= abs((p2[0] - p1[0]) * (p1[1] - p3[1]) - (p1[0] - p3[0]) * (p2[1] - p1[1])) / np.sqrt(np.square(p2[0] - p1[0]) + np.square(p2[1] - p1[1]))\n",
    "    if d < threshold:\n",
    "        return True\n",
    "    return False"
   ]
  },
  {
   "cell_type": "markdown",
   "id": "chemical-flashing",
   "metadata": {},
   "source": [
    "Testing  is_on_ground_plane(point, threshold) "
   ]
  },
  {
   "cell_type": "code",
   "execution_count": 10,
   "id": "eastern-manchester",
   "metadata": {},
   "outputs": [
    {
     "name": "stdout",
     "output_type": "stream",
     "text": [
      "p1 is on the ground plane:  False\n",
      "p2 is on the ground plane:  True\n"
     ]
    }
   ],
   "source": [
    "p1_test= np.array([1.09361e-16, 1.786, 0, 0.01606775])\n",
    "p2_test= np.array([2.074764, -5.267094, 0, 0.01663233])\n",
    "\n",
    "print(\"p1 is on the ground plane: \", is_on_ground_plane(p1_test, 0.25))\n",
    "print(\"p2 is on the ground plane: \", is_on_ground_plane(p2_test, 0.25))"
   ]
  },
  {
   "cell_type": "markdown",
   "id": "acute-fitness",
   "metadata": {},
   "source": [
    "Visualize the cloud point: which point is on the ground plane, which is not"
   ]
  },
  {
   "cell_type": "code",
   "execution_count": 11,
   "id": "worst-rolling",
   "metadata": {},
   "outputs": [
    {
     "name": "stdout",
     "output_type": "stream",
     "text": [
      "Inliers:  181\n",
      "Outliers:  539\n"
     ]
    },
    {
     "data": {
      "image/png": "[encoded data removed]",
      "text/plain": [
       "<Figure size 432x288 with 1 Axes>"
      ]
     },
     "metadata": {
      "needs_background": "light"
     },
     "output_type": "display_data"
    }
   ],
   "source": [
    "# Plot the point cloud (x, y only)\n",
    "inlier_count= 0\n",
    "plt.axes().set_aspect('equal', 'datalim')\n",
    "for p in points:\n",
    "    color= 'red'\n",
    "    if is_on_ground_plane(p, threshold):\n",
    "        color= 'green'\n",
    "        inlier_count+= 1\n",
    "    plt.plot(p[0], p[1], 'o', color=color, markersize= 1)\n",
    "print(\"Inliers: \", inlier_count)\n",
    "print(\"Outliers: \", len(points) - inlier_count)"
   ]
  },
  {
   "cell_type": "code",
   "execution_count": null,
   "id": "residential-rebound",
   "metadata": {},
   "outputs": [],
   "source": []
  }
 ],
 "metadata": {
  "kernelspec": {
   "display_name": "Python 3",
   "language": "python",
   "name": "python3"
  },
  "language_info": {
   "codemirror_mode": {
    "name": "ipython",
    "version": 3
   },
   "file_extension": ".py",
   "mimetype": "text/x-python",
   "name": "python",
   "nbconvert_exporter": "python",
   "pygments_lexer": "ipython3",
   "version": "3.8.8"
  }
 },
 "nbformat": 4,
 "nbformat_minor": 5
}
