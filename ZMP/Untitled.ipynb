{
 "cells": [
  {
   "cell_type": "code",
   "execution_count": 36,
   "id": "theoretical-morning",
   "metadata": {},
   "outputs": [],
   "source": [
    "import json"
   ]
  },
  {
   "cell_type": "code",
   "execution_count": 37,
   "id": "curious-hearing",
   "metadata": {},
   "outputs": [
    {
     "data": {
      "text/plain": [
       "{'locker_5_light': 1,\n",
       " 'locker_5_unlock': 2,\n",
       " 'locker_6_light': 1,\n",
       " 'locker_6_unlock': 1,\n",
       " 'locker_1_door': 1,\n",
       " 'locker_1_item': 1,\n",
       " 'locker_2_door': 1,\n",
       " 'locker_2_item': 2,\n",
       " 'locker_5_door': 1,\n",
       " 'locker_5_item': 5,\n",
       " 'locker_6_door': 1,\n",
       " 'locker_6_item': 1,\n",
       " 'locker_1_light': 0,\n",
       " 'locker_1_unlock': 1,\n",
       " 'locker_2_light': 1,\n",
       " 'locker_2_unlock': 1,\n",
       " 'locker_3_light': 1,\n",
       " 'locker_3_unlock': 1,\n",
       " 'locker_4_light': 1,\n",
       " 'locker_4_unlock': 1,\n",
       " 'locker_3_door': 1,\n",
       " 'locker_3_item': 3,\n",
       " 'locker_4_door': 1,\n",
       " 'locker_4_item': 0}"
      ]
     },
     "execution_count": 37,
     "metadata": {},
     "output_type": "execute_result"
    }
   ],
   "source": [
    "JSON_A= \"\"\"{\n",
    "    \"locker_5_light\": 1,\n",
    "    \"locker_5_unlock\": 2,\n",
    "    \"locker_6_light\": 1,\n",
    "    \"locker_6_unlock\": 1,\n",
    "    \"locker_1_door\": 1,\n",
    "    \"locker_1_item\": 1,\n",
    "    \"locker_2_door\": 1,\n",
    "    \"locker_2_item\": 2,\n",
    "    \"locker_5_door\": 1,\n",
    "    \"locker_5_item\": 5,\n",
    "    \"locker_6_door\": 1,\n",
    "    \"locker_6_item\": 1,\n",
    "    \"locker_1_light\": 0,\n",
    "    \"locker_1_unlock\": 1,\n",
    "    \"locker_2_light\": 1,\n",
    "    \"locker_2_unlock\": 1,\n",
    "    \"locker_3_light\": 1,\n",
    "    \"locker_3_unlock\": 1,\n",
    "    \"locker_4_light\": 1,\n",
    "    \"locker_4_unlock\": 1,\n",
    "    \"locker_3_door\": 1,\n",
    "    \"locker_3_item\":3,\n",
    "    \"locker_4_door\": 1,\n",
    "    \"locker_4_item\": 0\n",
    "}\n",
    "\"\"\"\n",
    "\n",
    "data= json.loads(JSON_A)\n",
    "\n",
    "data"
   ]
  },
  {
   "cell_type": "code",
   "execution_count": 42,
   "id": "directed-affect",
   "metadata": {},
   "outputs": [],
   "source": [
    "new_data= {}\n",
    "\n",
    "for key in data:\n",
    "    index= key[7]\n",
    "    feature= key[9:]\n",
    "    if index not in new_data:\n",
    "        new_data[index]= {}\n",
    "    new_data[index][feature]= data[key]        \n",
    "    \n",
    "# new_data= collections.OrderedDict(sorted(new_data.items()))\n",
    "# for key in new_data: \n",
    "#     new_data[key]= collections.OrderedDict(sorted(new_data[key].items()))"
   ]
  },
  {
   "cell_type": "code",
   "execution_count": 43,
   "id": "clear-injection",
   "metadata": {},
   "outputs": [
    {
     "data": {
      "text/plain": [
       "{'5': {'light': 1, 'unlock': 2, 'door': 1, 'item': 5},\n",
       " '6': {'light': 1, 'unlock': 1, 'door': 1, 'item': 1},\n",
       " '1': {'door': 1, 'item': 1, 'light': 0, 'unlock': 1},\n",
       " '2': {'door': 1, 'item': 2, 'light': 1, 'unlock': 1},\n",
       " '3': {'light': 1, 'unlock': 1, 'door': 1, 'item': 3},\n",
       " '4': {'light': 1, 'unlock': 1, 'door': 1, 'item': 0}}"
      ]
     },
     "execution_count": 43,
     "metadata": {},
     "output_type": "execute_result"
    }
   ],
   "source": [
    "new_data"
   ]
  },
  {
   "cell_type": "code",
   "execution_count": 44,
   "id": "representative-observer",
   "metadata": {},
   "outputs": [
    {
     "name": "stdout",
     "output_type": "stream",
     "text": [
      "{\n",
      "    \"1\": {\n",
      "        \"door\": 1,\n",
      "        \"item\": 1,\n",
      "        \"light\": 0,\n",
      "        \"unlock\": 1\n",
      "    },\n",
      "    \"2\": {\n",
      "        \"door\": 1,\n",
      "        \"item\": 2,\n",
      "        \"light\": 1,\n",
      "        \"unlock\": 1\n",
      "    },\n",
      "    \"3\": {\n",
      "        \"door\": 1,\n",
      "        \"item\": 3,\n",
      "        \"light\": 1,\n",
      "        \"unlock\": 1\n",
      "    },\n",
      "    \"4\": {\n",
      "        \"door\": 1,\n",
      "        \"item\": 0,\n",
      "        \"light\": 1,\n",
      "        \"unlock\": 1\n",
      "    },\n",
      "    \"5\": {\n",
      "        \"door\": 1,\n",
      "        \"item\": 5,\n",
      "        \"light\": 1,\n",
      "        \"unlock\": 2\n",
      "    },\n",
      "    \"6\": {\n",
      "        \"door\": 1,\n",
      "        \"item\": 1,\n",
      "        \"light\": 1,\n",
      "        \"unlock\": 1\n",
      "    }\n",
      "}\n"
     ]
    }
   ],
   "source": [
    "JSON_B= json.dumps(new_data, indent=4, sort_keys=True)\n",
    "print(JSON_B)"
   ]
  },
  {
   "cell_type": "code",
   "execution_count": null,
   "id": "headed-actor",
   "metadata": {},
   "outputs": [],
   "source": []
  }
 ],
 "metadata": {
  "kernelspec": {
   "display_name": "Python 3",
   "language": "python",
   "name": "python3"
  },
  "language_info": {
   "codemirror_mode": {
    "name": "ipython",
    "version": 3
   },
   "file_extension": ".py",
   "mimetype": "text/x-python",
   "name": "python",
   "nbconvert_exporter": "python",
   "pygments_lexer": "ipython3",
   "version": "3.8.8"
  }
 },
 "nbformat": 4,
 "nbformat_minor": 5
}
