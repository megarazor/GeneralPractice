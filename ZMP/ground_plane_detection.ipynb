{
 "cells": [
  {
   "cell_type": "code",
<<<<<<< HEAD
   "execution_count": 1,
   "id": "recreational-joyce",
=======
   "execution_count": 45,
   "id": "personal-lightning",
>>>>>>> 471506ce4c01ff337c8938258f600c4f3e72eca1
   "metadata": {},
   "outputs": [],
   "source": [
    "import numpy as np\n",
<<<<<<< HEAD
    "import matplotlib.pyplot as plt"
=======
    "import pandas as pd\n",
    "from numpy.linalg import norm"
>>>>>>> 471506ce4c01ff337c8938258f600c4f3e72eca1
   ]
  },
  {
   "cell_type": "code",
<<<<<<< HEAD
   "execution_count": 2,
   "id": "rental-marina",
=======
   "execution_count": 46,
   "id": "frequent-sally",
>>>>>>> 471506ce4c01ff337c8938258f600c4f3e72eca1
   "metadata": {},
   "outputs": [
    {
     "name": "stdout",
     "output_type": "stream",
     "text": [
<<<<<<< HEAD
      "(721, 4)\n",
      "[[1.093610e-16 1.786000e+00 0.000000e+00 1.606775e-02]\n",
      " [7.757964e-03 1.777983e+00 0.000000e+00 1.599145e-02]\n",
      " [1.554196e-02 1.780932e+00 0.000000e+00 1.611353e-02]\n",
      " [2.332566e-02 1.781847e+00 0.000000e+00 1.609827e-02]\n",
      " [3.130962e-02 1.793727e+00 0.000000e+00 1.651026e-02]\n",
      " [4.020483e-02 1.842561e+00 0.000000e+00 1.661707e-02]\n",
      " [4.994562e-02 1.907346e+00 0.000000e+00 1.742580e-02]\n",
      " [5.906149e-02 1.933098e+00 0.000000e+00 1.736477e-02]\n",
      " [6.857751e-02 1.963803e+00 0.000000e+00 1.646448e-02]\n",
      " [7.793073e-02 1.983470e+00 0.000000e+00 1.701381e-02]]\n"
=======
      "(721, 4)\n"
     ]
    },
    {
     "data": {
      "text/html": [
       "<div>\n",
       "<style scoped>\n",
       "    .dataframe tbody tr th:only-of-type {\n",
       "        vertical-align: middle;\n",
       "    }\n",
       "\n",
       "    .dataframe tbody tr th {\n",
       "        vertical-align: top;\n",
       "    }\n",
       "\n",
       "    .dataframe thead th {\n",
       "        text-align: right;\n",
       "    }\n",
       "</style>\n",
       "<table border=\"1\" class=\"dataframe\">\n",
       "  <thead>\n",
       "    <tr style=\"text-align: right;\">\n",
       "      <th></th>\n",
       "      <th>x</th>\n",
       "      <th>y</th>\n",
       "      <th>z</th>\n",
       "      <th>intensity</th>\n",
       "    </tr>\n",
       "  </thead>\n",
       "  <tbody>\n",
       "    <tr>\n",
       "      <th>0</th>\n",
       "      <td>1.093610e-16</td>\n",
       "      <td>1.786000</td>\n",
       "      <td>0</td>\n",
       "      <td>0.016068</td>\n",
       "    </tr>\n",
       "    <tr>\n",
       "      <th>1</th>\n",
       "      <td>7.757964e-03</td>\n",
       "      <td>1.777983</td>\n",
       "      <td>0</td>\n",
       "      <td>0.015991</td>\n",
       "    </tr>\n",
       "    <tr>\n",
       "      <th>2</th>\n",
       "      <td>1.554196e-02</td>\n",
       "      <td>1.780932</td>\n",
       "      <td>0</td>\n",
       "      <td>0.016114</td>\n",
       "    </tr>\n",
       "    <tr>\n",
       "      <th>3</th>\n",
       "      <td>2.332566e-02</td>\n",
       "      <td>1.781847</td>\n",
       "      <td>0</td>\n",
       "      <td>0.016098</td>\n",
       "    </tr>\n",
       "    <tr>\n",
       "      <th>4</th>\n",
       "      <td>3.130962e-02</td>\n",
       "      <td>1.793727</td>\n",
       "      <td>0</td>\n",
       "      <td>0.016510</td>\n",
       "    </tr>\n",
       "  </tbody>\n",
       "</table>\n",
       "</div>"
      ],
      "text/plain": [
       "              x         y  z  intensity\n",
       "0  1.093610e-16  1.786000  0   0.016068\n",
       "1  7.757964e-03  1.777983  0   0.015991\n",
       "2  1.554196e-02  1.780932  0   0.016114\n",
       "3  2.332566e-02  1.781847  0   0.016098\n",
       "4  3.130962e-02  1.793727  0   0.016510"
      ]
     },
     "metadata": {},
     "output_type": "display_data"
    },
    {
     "name": "stdout",
     "output_type": "stream",
     "text": [
      "<class 'pandas.core.frame.DataFrame'>\n",
      "RangeIndex: 721 entries, 0 to 720\n",
      "Data columns (total 4 columns):\n",
      " #   Column     Non-Null Count  Dtype  \n",
      "---  ------     --------------  -----  \n",
      " 0   x          721 non-null    float64\n",
      " 1   y          721 non-null    float64\n",
      " 2   z          721 non-null    int64  \n",
      " 3   intensity  721 non-null    float64\n",
      "dtypes: float64(3), int64(1)\n",
      "memory usage: 22.7 KB\n",
      "None\n"
>>>>>>> 471506ce4c01ff337c8938258f600c4f3e72eca1
     ]
    }
   ],
   "source": [
<<<<<<< HEAD
    "points= np.genfromtxt('2d_pointcloud.txt', delimiter=' ', skip_header=1)\n",
    "print(points.shape)\n",
    "print(points[:10])"
   ]
  },
  {
   "cell_type": "code",
   "execution_count": 3,
   "id": "frequent-particle",
   "metadata": {},
   "outputs": [],
   "source": [
    "# Make it smaller for testing\n",
    "# points= points[:50]"
=======
    "df= pd.read_csv('2d_pointcloud.txt', delimiter= ' ', skiprows=0)\n",
    "print(df.shape)\n",
    "display(df.head())\n",
    "print(df.info())"
>>>>>>> 471506ce4c01ff337c8938258f600c4f3e72eca1
   ]
  },
  {
   "cell_type": "code",
<<<<<<< HEAD
   "execution_count": 4,
   "id": "arbitrary-treasury",
   "metadata": {},
   "outputs": [],
   "source": [
    "# Threshold distance value to decide if the point is on the plane \n",
    "threshold= 0.005\n",
    "\n",
    "n= len(points)\n",
    "# outliner_count_min= n\n",
    "D_min= 100\n",
    "result= (-1, -1)"
   ]
  },
  {
   "cell_type": "code",
   "execution_count": 5,
   "id": "thick-moisture",
   "metadata": {},
   "outputs": [
    {
     "ename": "KeyboardInterrupt",
     "evalue": "",
     "output_type": "error",
     "traceback": [
      "\u001b[1;31m---------------------------------------------------------------------------\u001b[0m",
      "\u001b[1;31mKeyboardInterrupt\u001b[0m                         Traceback (most recent call last)",
      "\u001b[1;32m<ipython-input-5-0814b27c3fee>\u001b[0m in \u001b[0;36m<module>\u001b[1;34m\u001b[0m\n\u001b[0;32m      9\u001b[0m             \u001b[0mp2_2d\u001b[0m\u001b[1;33m=\u001b[0m \u001b[0mnp\u001b[0m\u001b[1;33m.\u001b[0m\u001b[0marray\u001b[0m\u001b[1;33m(\u001b[0m\u001b[1;33m[\u001b[0m\u001b[0mp2\u001b[0m\u001b[1;33m[\u001b[0m\u001b[1;36m0\u001b[0m\u001b[1;33m]\u001b[0m\u001b[1;33m,\u001b[0m \u001b[0mp2\u001b[0m\u001b[1;33m[\u001b[0m\u001b[1;36m1\u001b[0m\u001b[1;33m]\u001b[0m\u001b[1;33m]\u001b[0m\u001b[1;33m)\u001b[0m\u001b[1;33m\u001b[0m\u001b[1;33m\u001b[0m\u001b[0m\n\u001b[0;32m     10\u001b[0m             \u001b[0mp3_2d\u001b[0m\u001b[1;33m=\u001b[0m \u001b[0mnp\u001b[0m\u001b[1;33m.\u001b[0m\u001b[0marray\u001b[0m\u001b[1;33m(\u001b[0m\u001b[1;33m[\u001b[0m\u001b[0mp3\u001b[0m\u001b[1;33m[\u001b[0m\u001b[1;36m0\u001b[0m\u001b[1;33m]\u001b[0m\u001b[1;33m,\u001b[0m \u001b[0mp3\u001b[0m\u001b[1;33m[\u001b[0m\u001b[1;36m1\u001b[0m\u001b[1;33m]\u001b[0m\u001b[1;33m]\u001b[0m\u001b[1;33m)\u001b[0m\u001b[1;33m\u001b[0m\u001b[1;33m\u001b[0m\u001b[0m\n\u001b[1;32m---> 11\u001b[1;33m             \u001b[0md\u001b[0m\u001b[1;33m=\u001b[0m \u001b[0mnp\u001b[0m\u001b[1;33m.\u001b[0m\u001b[0mlinalg\u001b[0m\u001b[1;33m.\u001b[0m\u001b[0mnorm\u001b[0m\u001b[1;33m(\u001b[0m\u001b[0mnp\u001b[0m\u001b[1;33m.\u001b[0m\u001b[0mcross\u001b[0m\u001b[1;33m(\u001b[0m\u001b[0mp2_2d\u001b[0m \u001b[1;33m-\u001b[0m \u001b[0mp1_2d\u001b[0m\u001b[1;33m,\u001b[0m \u001b[0mp1_2d\u001b[0m \u001b[1;33m-\u001b[0m \u001b[0mp3_2d\u001b[0m\u001b[1;33m)\u001b[0m\u001b[1;33m)\u001b[0m \u001b[1;33m/\u001b[0m \u001b[0mnp\u001b[0m\u001b[1;33m.\u001b[0m\u001b[0mlinalg\u001b[0m\u001b[1;33m.\u001b[0m\u001b[0mnorm\u001b[0m\u001b[1;33m(\u001b[0m\u001b[0mp2_2d\u001b[0m \u001b[1;33m-\u001b[0m \u001b[0mp1_2d\u001b[0m\u001b[1;33m)\u001b[0m\u001b[1;33m\u001b[0m\u001b[1;33m\u001b[0m\u001b[0m\n\u001b[0m\u001b[0;32m     12\u001b[0m \u001b[1;31m#             print(d)\u001b[0m\u001b[1;33m\u001b[0m\u001b[1;33m\u001b[0m\u001b[1;33m\u001b[0m\u001b[0m\n\u001b[0;32m     13\u001b[0m             \u001b[0mD\u001b[0m\u001b[1;33m+=\u001b[0m \u001b[0md\u001b[0m\u001b[1;33m\u001b[0m\u001b[1;33m\u001b[0m\u001b[0m\n",
      "\u001b[1;32m<__array_function__ internals>\u001b[0m in \u001b[0;36mnorm\u001b[1;34m(*args, **kwargs)\u001b[0m\n",
      "\u001b[1;32mD:\\PROGRAM_DATA\\Miniconda3\\envs\\ds2021\\lib\\site-packages\\numpy\\linalg\\linalg.py\u001b[0m in \u001b[0;36mnorm\u001b[1;34m(x, ord, axis, keepdims)\u001b[0m\n\u001b[0;32m   2528\u001b[0m                 \u001b[0msqnorm\u001b[0m \u001b[1;33m=\u001b[0m \u001b[0mdot\u001b[0m\u001b[1;33m(\u001b[0m\u001b[0mx\u001b[0m\u001b[1;33m.\u001b[0m\u001b[0mreal\u001b[0m\u001b[1;33m,\u001b[0m \u001b[0mx\u001b[0m\u001b[1;33m.\u001b[0m\u001b[0mreal\u001b[0m\u001b[1;33m)\u001b[0m \u001b[1;33m+\u001b[0m \u001b[0mdot\u001b[0m\u001b[1;33m(\u001b[0m\u001b[0mx\u001b[0m\u001b[1;33m.\u001b[0m\u001b[0mimag\u001b[0m\u001b[1;33m,\u001b[0m \u001b[0mx\u001b[0m\u001b[1;33m.\u001b[0m\u001b[0mimag\u001b[0m\u001b[1;33m)\u001b[0m\u001b[1;33m\u001b[0m\u001b[1;33m\u001b[0m\u001b[0m\n\u001b[0;32m   2529\u001b[0m             \u001b[1;32melse\u001b[0m\u001b[1;33m:\u001b[0m\u001b[1;33m\u001b[0m\u001b[1;33m\u001b[0m\u001b[0m\n\u001b[1;32m-> 2530\u001b[1;33m                 \u001b[0msqnorm\u001b[0m \u001b[1;33m=\u001b[0m \u001b[0mdot\u001b[0m\u001b[1;33m(\u001b[0m\u001b[0mx\u001b[0m\u001b[1;33m,\u001b[0m \u001b[0mx\u001b[0m\u001b[1;33m)\u001b[0m\u001b[1;33m\u001b[0m\u001b[1;33m\u001b[0m\u001b[0m\n\u001b[0m\u001b[0;32m   2531\u001b[0m             \u001b[0mret\u001b[0m \u001b[1;33m=\u001b[0m \u001b[0msqrt\u001b[0m\u001b[1;33m(\u001b[0m\u001b[0msqnorm\u001b[0m\u001b[1;33m)\u001b[0m\u001b[1;33m\u001b[0m\u001b[1;33m\u001b[0m\u001b[0m\n\u001b[0;32m   2532\u001b[0m             \u001b[1;32mif\u001b[0m \u001b[0mkeepdims\u001b[0m\u001b[1;33m:\u001b[0m\u001b[1;33m\u001b[0m\u001b[1;33m\u001b[0m\u001b[0m\n",
      "\u001b[1;32m<__array_function__ internals>\u001b[0m in \u001b[0;36mdot\u001b[1;34m(*args, **kwargs)\u001b[0m\n",
      "\u001b[1;31mKeyboardInterrupt\u001b[0m: "
     ]
    }
   ],
   "source": [
    "for i in range(n):\n",
    "    for j in range(i + 1, n):\n",
    "        p1= points[i]\n",
    "        p2= points[j]\n",
    "#         outliner_count= 0\n",
    "        D= 0\n",
    "        for p3 in points:            \n",
    "            p1_2d= np.array([p1[0], p1[1]])\n",
    "            p2_2d= np.array([p2[0], p2[1]])\n",
    "            p3_2d= np.array([p3[0], p3[1]])\n",
    "            d= np.linalg.norm(np.cross(p2_2d - p1_2d, p1_2d - p3_2d)) / np.linalg.norm(p2_2d - p1_2d)\n",
    "#             print(d)\n",
    "            D+= d\n",
    "#             if d > threshold:\n",
    "#                 outliner_count+= 1\n",
    "#         print(outliner_count)\n",
    "#         if outliner_count < outliner_count_min:\n",
    "#             result= (p1, p2)\n",
    "#             outliner_count_min= outliner_count\n",
    "        if D < D_min:\n",
    "            result= (p1, p2)\n",
    "            D_min= D\n",
    "# print(\"Min outliner count:\", outliner_count_min)\n",
    "print(\"D min: \", D_min)\n",
    "result"
=======
   "execution_count": 47,
   "id": "canadian-aviation",
   "metadata": {},
   "outputs": [],
   "source": [
    "length= df.shape[0]\n",
    "done= []\n",
    "threshold= 0.001\n",
    "max_inlier_count= -1\n",
    "ground_line= []"
>>>>>>> 471506ce4c01ff337c8938258f600c4f3e72eca1
   ]
  },
  {
   "cell_type": "code",
   "execution_count": null,
<<<<<<< HEAD
   "id": "differential-arrangement",
   "metadata": {},
   "outputs": [],
   "source": [
    "p1= result[0]\n",
    "p2= result[1]\n",
    "p1_2d= np.array([p1[0], p1[1]])\n",
    "p2_2d= np.array([p2[0], p2[1]])"
   ]
  },
  {
   "cell_type": "code",
   "execution_count": null,
   "id": "ranking-classic",
   "metadata": {},
   "outputs": [],
   "source": [
    "points_del= np.delete(points, 2, axis=1)\n",
    "points_del= np.delete(points_del, 2, axis=1)\n",
    "print(points_del[:10])"
   ]
  },
  {
   "cell_type": "code",
   "execution_count": null,
   "id": "transsexual-minneapolis",
   "metadata": {},
   "outputs": [],
   "source": [
    "plt.plot(points_del , 'o', color='black')\n",
    "plt.plot(p1_2d, p2_2d)"
   ]
  },
  {
   "cell_type": "code",
   "execution_count": null,
   "id": "still-aside",
   "metadata": {},
   "outputs": [],
   "source": [
    "def is_on_ground_plane(point, threshold):\n",
    "    point= np.array([point[0], point[1]])\n",
    "    d= np.linalg.norm(np.cross(p2_2d - p1_2d, p1_2d - point)) / np.linalg.norm(p2_2d - p1_2d)\n",
    "    if d < threshold:\n",
    "        return True\n",
    "    return False"
   ]
  },
  {
   "cell_type": "code",
   "execution_count": null,
   "id": "separate-flight",
   "metadata": {},
   "outputs": [],
   "source": [
    "p1= np.array([1.09361e-16, 1.786, 0, 0.01606775])\n",
    "p2= np.array([0.4115986, -5.538728, 0, 0.01622034])\n",
    "\n",
    "print(\"p1 is on the ground plane: \", is_on_ground_plane(p1, 0.05))\n",
    "print(\"p2 is on the ground plane: \", is_on_ground_plane(p2, 0.05))"
=======
   "id": "every-conversion",
   "metadata": {},
   "outputs": [
    {
     "name": "stderr",
     "output_type": "stream",
     "text": [
      "<ipython-input-48-71b46e1224ab>:9: RuntimeWarning: invalid value encountered in true_divide\n",
      "  d= np.cross(p2-p1, p3-p1) / norm(p2-p1)\n"
     ]
    }
   ],
   "source": [
    "for i in range(length):\n",
    "    for j in range (length):\n",
    "        if j not in done:\n",
    "            inlier_count= 0\n",
    "            for k in range(length):\n",
    "                p1= np.array([df.loc[i][0], df.loc[i][1]])\n",
    "                p2= np.array([df.loc[j][0], df.loc[j][1]])\n",
    "                p3= np.array([df.loc[k][0], df.loc[k][1]])\n",
    "                d= np.cross(p2-p1, p3-p1) / norm(p2-p1)\n",
    "                if d < threshold:\n",
    "                    inlier_count+= 1\n",
    "            if inlier_count > max_inlier_count:\n",
    "                max_inlier_count= inlier_count\n",
    "                ground_line= (p1, p2)\n",
    "    done.append(i)\n",
    "\n",
    "print(ground_line)        "
   ]
  },
  {
   "cell_type": "code",
   "execution_count": null,
   "id": "instant-enhancement",
   "metadata": {},
   "outputs": [],
   "source": [
    "p1= np.array([df.loc[0][0], df.loc[0][1]])\n",
    "p2= np.array([df.loc[1][0], df.loc[1][1]])\n",
    "p3= np.array([df.loc[2][0], df.loc[2][1]])\n",
    "d= np.cross(p2-p1, p3-p1) / norm(p2-p1)\n",
    "print(d)"
>>>>>>> 471506ce4c01ff337c8938258f600c4f3e72eca1
   ]
  },
  {
   "cell_type": "code",
   "execution_count": null,
<<<<<<< HEAD
   "id": "flush-hollow",
=======
   "id": "smooth-referral",
>>>>>>> 471506ce4c01ff337c8938258f600c4f3e72eca1
   "metadata": {},
   "outputs": [],
   "source": []
  }
 ],
 "metadata": {
  "kernelspec": {
   "display_name": "Python 3",
   "language": "python",
   "name": "python3"
  },
  "language_info": {
   "codemirror_mode": {
    "name": "ipython",
    "version": 3
   },
   "file_extension": ".py",
   "mimetype": "text/x-python",
   "name": "python",
   "nbconvert_exporter": "python",
   "pygments_lexer": "ipython3",
   "version": "3.8.8"
  }
 },
 "nbformat": 4,
 "nbformat_minor": 5
}
