{
 "cells": [
  {
   "cell_type": "code",
   "execution_count": 45,
   "id": "personal-lightning",
   "metadata": {},
   "outputs": [],
   "source": [
    "import numpy as np\n",
    "import pandas as pd\n",
    "from numpy.linalg import norm"
   ]
  },
  {
   "cell_type": "code",
   "execution_count": 46,
   "id": "frequent-sally",
   "metadata": {},
   "outputs": [
    {
     "name": "stdout",
     "output_type": "stream",
     "text": [
      "(721, 4)\n"
     ]
    },
    {
     "data": {
      "text/html": [
       "<div>\n",
       "<style scoped>\n",
       "    .dataframe tbody tr th:only-of-type {\n",
       "        vertical-align: middle;\n",
       "    }\n",
       "\n",
       "    .dataframe tbody tr th {\n",
       "        vertical-align: top;\n",
       "    }\n",
       "\n",
       "    .dataframe thead th {\n",
       "        text-align: right;\n",
       "    }\n",
       "</style>\n",
       "<table border=\"1\" class=\"dataframe\">\n",
       "  <thead>\n",
       "    <tr style=\"text-align: right;\">\n",
       "      <th></th>\n",
       "      <th>x</th>\n",
       "      <th>y</th>\n",
       "      <th>z</th>\n",
       "      <th>intensity</th>\n",
       "    </tr>\n",
       "  </thead>\n",
       "  <tbody>\n",
       "    <tr>\n",
       "      <th>0</th>\n",
       "      <td>1.093610e-16</td>\n",
       "      <td>1.786000</td>\n",
       "      <td>0</td>\n",
       "      <td>0.016068</td>\n",
       "    </tr>\n",
       "    <tr>\n",
       "      <th>1</th>\n",
       "      <td>7.757964e-03</td>\n",
       "      <td>1.777983</td>\n",
       "      <td>0</td>\n",
       "      <td>0.015991</td>\n",
       "    </tr>\n",
       "    <tr>\n",
       "      <th>2</th>\n",
       "      <td>1.554196e-02</td>\n",
       "      <td>1.780932</td>\n",
       "      <td>0</td>\n",
       "      <td>0.016114</td>\n",
       "    </tr>\n",
       "    <tr>\n",
       "      <th>3</th>\n",
       "      <td>2.332566e-02</td>\n",
       "      <td>1.781847</td>\n",
       "      <td>0</td>\n",
       "      <td>0.016098</td>\n",
       "    </tr>\n",
       "    <tr>\n",
       "      <th>4</th>\n",
       "      <td>3.130962e-02</td>\n",
       "      <td>1.793727</td>\n",
       "      <td>0</td>\n",
       "      <td>0.016510</td>\n",
       "    </tr>\n",
       "  </tbody>\n",
       "</table>\n",
       "</div>"
      ],
      "text/plain": [
       "              x         y  z  intensity\n",
       "0  1.093610e-16  1.786000  0   0.016068\n",
       "1  7.757964e-03  1.777983  0   0.015991\n",
       "2  1.554196e-02  1.780932  0   0.016114\n",
       "3  2.332566e-02  1.781847  0   0.016098\n",
       "4  3.130962e-02  1.793727  0   0.016510"
      ]
     },
     "metadata": {},
     "output_type": "display_data"
    },
    {
     "name": "stdout",
     "output_type": "stream",
     "text": [
      "<class 'pandas.core.frame.DataFrame'>\n",
      "RangeIndex: 721 entries, 0 to 720\n",
      "Data columns (total 4 columns):\n",
      " #   Column     Non-Null Count  Dtype  \n",
      "---  ------     --------------  -----  \n",
      " 0   x          721 non-null    float64\n",
      " 1   y          721 non-null    float64\n",
      " 2   z          721 non-null    int64  \n",
      " 3   intensity  721 non-null    float64\n",
      "dtypes: float64(3), int64(1)\n",
      "memory usage: 22.7 KB\n",
      "None\n"
     ]
    }
   ],
   "source": [
    "df= pd.read_csv('2d_pointcloud.txt', delimiter= ' ', skiprows=0)\n",
    "print(df.shape)\n",
    "display(df.head())\n",
    "print(df.info())"
   ]
  },
  {
   "cell_type": "code",
   "execution_count": 47,
   "id": "canadian-aviation",
   "metadata": {},
   "outputs": [],
   "source": [
    "length= df.shape[0]\n",
    "done= []\n",
    "threshold= 0.001\n",
    "max_inlier_count= -1\n",
    "ground_line= []"
   ]
  },
  {
   "cell_type": "code",
   "execution_count": null,
   "id": "every-conversion",
   "metadata": {},
   "outputs": [
    {
     "name": "stderr",
     "output_type": "stream",
     "text": [
      "<ipython-input-48-71b46e1224ab>:9: RuntimeWarning: invalid value encountered in true_divide\n",
      "  d= np.cross(p2-p1, p3-p1) / norm(p2-p1)\n"
     ]
    }
   ],
   "source": [
    "for i in range(length):\n",
    "    for j in range (length):\n",
    "        if j not in done:\n",
    "            inlier_count= 0\n",
    "            for k in range(length):\n",
    "                p1= np.array([df.loc[i][0], df.loc[i][1]])\n",
    "                p2= np.array([df.loc[j][0], df.loc[j][1]])\n",
    "                p3= np.array([df.loc[k][0], df.loc[k][1]])\n",
    "                d= np.cross(p2-p1, p3-p1) / norm(p2-p1)\n",
    "                if d < threshold:\n",
    "                    inlier_count+= 1\n",
    "            if inlier_count > max_inlier_count:\n",
    "                max_inlier_count= inlier_count\n",
    "                ground_line= (p1, p2)\n",
    "    done.append(i)\n",
    "\n",
    "print(ground_line)        "
   ]
  },
  {
   "cell_type": "code",
   "execution_count": null,
   "id": "instant-enhancement",
   "metadata": {},
   "outputs": [],
   "source": [
    "p1= np.array([df.loc[0][0], df.loc[0][1]])\n",
    "p2= np.array([df.loc[1][0], df.loc[1][1]])\n",
    "p3= np.array([df.loc[2][0], df.loc[2][1]])\n",
    "d= np.cross(p2-p1, p3-p1) / norm(p2-p1)\n",
    "print(d)"
   ]
  },
  {
   "cell_type": "code",
   "execution_count": null,
   "id": "smooth-referral",
   "metadata": {},
   "outputs": [],
   "source": []
  }
 ],
 "metadata": {
  "kernelspec": {
   "display_name": "Python 3",
   "language": "python",
   "name": "python3"
  },
  "language_info": {
   "codemirror_mode": {
    "name": "ipython",
    "version": 3
   },
   "file_extension": ".py",
   "mimetype": "text/x-python",
   "name": "python",
   "nbconvert_exporter": "python",
   "pygments_lexer": "ipython3",
   "version": "3.8.8"
  }
 },
 "nbformat": 4,
 "nbformat_minor": 5
}
