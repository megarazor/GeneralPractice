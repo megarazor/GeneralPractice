{
 "cells": [
  {
   "cell_type": "code",
   "execution_count": 1,
   "id": "recreational-joyce",
   "metadata": {},
   "outputs": [],
   "source": [
    "import numpy as np\n",
    "import matplotlib.pyplot as plt"
   ]
  },
  {
   "cell_type": "code",
   "execution_count": 2,
   "id": "rental-marina",
   "metadata": {},
   "outputs": [
    {
     "name": "stdout",
     "output_type": "stream",
     "text": [
      "(721, 4)\n",
      "[[1.093610e-16 1.786000e+00 0.000000e+00 1.606775e-02]\n",
      " [7.757964e-03 1.777983e+00 0.000000e+00 1.599145e-02]\n",
      " [1.554196e-02 1.780932e+00 0.000000e+00 1.611353e-02]\n",
      " [2.332566e-02 1.781847e+00 0.000000e+00 1.609827e-02]\n",
      " [3.130962e-02 1.793727e+00 0.000000e+00 1.651026e-02]\n",
      " [4.020483e-02 1.842561e+00 0.000000e+00 1.661707e-02]\n",
      " [4.994562e-02 1.907346e+00 0.000000e+00 1.742580e-02]\n",
      " [5.906149e-02 1.933098e+00 0.000000e+00 1.736477e-02]\n",
      " [6.857751e-02 1.963803e+00 0.000000e+00 1.646448e-02]\n",
      " [7.793073e-02 1.983470e+00 0.000000e+00 1.701381e-02]]\n"
     ]
    }
   ],
   "source": [
    "points= np.genfromtxt('2d_pointcloud.txt', delimiter=' ', skip_header=1)\n",
    "print(points.shape)\n",
    "print(points[:10])"
   ]
  },
  {
   "cell_type": "code",
   "execution_count": 3,
   "id": "frequent-particle",
   "metadata": {},
   "outputs": [],
   "source": [
    "# Make it smaller for testing\n",
    "# points= points[:50]"
   ]
  },
  {
   "cell_type": "code",
   "execution_count": 4,
   "id": "arbitrary-treasury",
   "metadata": {},
   "outputs": [],
   "source": [
    "# Threshold distance value to decide if the point is on the plane \n",
    "threshold= 0.005\n",
    "\n",
    "n= len(points)\n",
    "# outliner_count_min= n\n",
    "D_min= 100\n",
    "result= (-1, -1)"
   ]
  },
  {
   "cell_type": "code",
   "execution_count": 5,
   "id": "thick-moisture",
   "metadata": {},
   "outputs": [
    {
     "ename": "KeyboardInterrupt",
     "evalue": "",
     "output_type": "error",
     "traceback": [
      "\u001b[1;31m---------------------------------------------------------------------------\u001b[0m",
      "\u001b[1;31mKeyboardInterrupt\u001b[0m                         Traceback (most recent call last)",
      "\u001b[1;32m<ipython-input-5-0814b27c3fee>\u001b[0m in \u001b[0;36m<module>\u001b[1;34m\u001b[0m\n\u001b[0;32m      9\u001b[0m             \u001b[0mp2_2d\u001b[0m\u001b[1;33m=\u001b[0m \u001b[0mnp\u001b[0m\u001b[1;33m.\u001b[0m\u001b[0marray\u001b[0m\u001b[1;33m(\u001b[0m\u001b[1;33m[\u001b[0m\u001b[0mp2\u001b[0m\u001b[1;33m[\u001b[0m\u001b[1;36m0\u001b[0m\u001b[1;33m]\u001b[0m\u001b[1;33m,\u001b[0m \u001b[0mp2\u001b[0m\u001b[1;33m[\u001b[0m\u001b[1;36m1\u001b[0m\u001b[1;33m]\u001b[0m\u001b[1;33m]\u001b[0m\u001b[1;33m)\u001b[0m\u001b[1;33m\u001b[0m\u001b[1;33m\u001b[0m\u001b[0m\n\u001b[0;32m     10\u001b[0m             \u001b[0mp3_2d\u001b[0m\u001b[1;33m=\u001b[0m \u001b[0mnp\u001b[0m\u001b[1;33m.\u001b[0m\u001b[0marray\u001b[0m\u001b[1;33m(\u001b[0m\u001b[1;33m[\u001b[0m\u001b[0mp3\u001b[0m\u001b[1;33m[\u001b[0m\u001b[1;36m0\u001b[0m\u001b[1;33m]\u001b[0m\u001b[1;33m,\u001b[0m \u001b[0mp3\u001b[0m\u001b[1;33m[\u001b[0m\u001b[1;36m1\u001b[0m\u001b[1;33m]\u001b[0m\u001b[1;33m]\u001b[0m\u001b[1;33m)\u001b[0m\u001b[1;33m\u001b[0m\u001b[1;33m\u001b[0m\u001b[0m\n\u001b[1;32m---> 11\u001b[1;33m             \u001b[0md\u001b[0m\u001b[1;33m=\u001b[0m \u001b[0mnp\u001b[0m\u001b[1;33m.\u001b[0m\u001b[0mlinalg\u001b[0m\u001b[1;33m.\u001b[0m\u001b[0mnorm\u001b[0m\u001b[1;33m(\u001b[0m\u001b[0mnp\u001b[0m\u001b[1;33m.\u001b[0m\u001b[0mcross\u001b[0m\u001b[1;33m(\u001b[0m\u001b[0mp2_2d\u001b[0m \u001b[1;33m-\u001b[0m \u001b[0mp1_2d\u001b[0m\u001b[1;33m,\u001b[0m \u001b[0mp1_2d\u001b[0m \u001b[1;33m-\u001b[0m \u001b[0mp3_2d\u001b[0m\u001b[1;33m)\u001b[0m\u001b[1;33m)\u001b[0m \u001b[1;33m/\u001b[0m \u001b[0mnp\u001b[0m\u001b[1;33m.\u001b[0m\u001b[0mlinalg\u001b[0m\u001b[1;33m.\u001b[0m\u001b[0mnorm\u001b[0m\u001b[1;33m(\u001b[0m\u001b[0mp2_2d\u001b[0m \u001b[1;33m-\u001b[0m \u001b[0mp1_2d\u001b[0m\u001b[1;33m)\u001b[0m\u001b[1;33m\u001b[0m\u001b[1;33m\u001b[0m\u001b[0m\n\u001b[0m\u001b[0;32m     12\u001b[0m \u001b[1;31m#             print(d)\u001b[0m\u001b[1;33m\u001b[0m\u001b[1;33m\u001b[0m\u001b[1;33m\u001b[0m\u001b[0m\n\u001b[0;32m     13\u001b[0m             \u001b[0mD\u001b[0m\u001b[1;33m+=\u001b[0m \u001b[0md\u001b[0m\u001b[1;33m\u001b[0m\u001b[1;33m\u001b[0m\u001b[0m\n",
      "\u001b[1;32m<__array_function__ internals>\u001b[0m in \u001b[0;36mnorm\u001b[1;34m(*args, **kwargs)\u001b[0m\n",
      "\u001b[1;32mD:\\PROGRAM_DATA\\Miniconda3\\envs\\ds2021\\lib\\site-packages\\numpy\\linalg\\linalg.py\u001b[0m in \u001b[0;36mnorm\u001b[1;34m(x, ord, axis, keepdims)\u001b[0m\n\u001b[0;32m   2528\u001b[0m                 \u001b[0msqnorm\u001b[0m \u001b[1;33m=\u001b[0m \u001b[0mdot\u001b[0m\u001b[1;33m(\u001b[0m\u001b[0mx\u001b[0m\u001b[1;33m.\u001b[0m\u001b[0mreal\u001b[0m\u001b[1;33m,\u001b[0m \u001b[0mx\u001b[0m\u001b[1;33m.\u001b[0m\u001b[0mreal\u001b[0m\u001b[1;33m)\u001b[0m \u001b[1;33m+\u001b[0m \u001b[0mdot\u001b[0m\u001b[1;33m(\u001b[0m\u001b[0mx\u001b[0m\u001b[1;33m.\u001b[0m\u001b[0mimag\u001b[0m\u001b[1;33m,\u001b[0m \u001b[0mx\u001b[0m\u001b[1;33m.\u001b[0m\u001b[0mimag\u001b[0m\u001b[1;33m)\u001b[0m\u001b[1;33m\u001b[0m\u001b[1;33m\u001b[0m\u001b[0m\n\u001b[0;32m   2529\u001b[0m             \u001b[1;32melse\u001b[0m\u001b[1;33m:\u001b[0m\u001b[1;33m\u001b[0m\u001b[1;33m\u001b[0m\u001b[0m\n\u001b[1;32m-> 2530\u001b[1;33m                 \u001b[0msqnorm\u001b[0m \u001b[1;33m=\u001b[0m \u001b[0mdot\u001b[0m\u001b[1;33m(\u001b[0m\u001b[0mx\u001b[0m\u001b[1;33m,\u001b[0m \u001b[0mx\u001b[0m\u001b[1;33m)\u001b[0m\u001b[1;33m\u001b[0m\u001b[1;33m\u001b[0m\u001b[0m\n\u001b[0m\u001b[0;32m   2531\u001b[0m             \u001b[0mret\u001b[0m \u001b[1;33m=\u001b[0m \u001b[0msqrt\u001b[0m\u001b[1;33m(\u001b[0m\u001b[0msqnorm\u001b[0m\u001b[1;33m)\u001b[0m\u001b[1;33m\u001b[0m\u001b[1;33m\u001b[0m\u001b[0m\n\u001b[0;32m   2532\u001b[0m             \u001b[1;32mif\u001b[0m \u001b[0mkeepdims\u001b[0m\u001b[1;33m:\u001b[0m\u001b[1;33m\u001b[0m\u001b[1;33m\u001b[0m\u001b[0m\n",
      "\u001b[1;32m<__array_function__ internals>\u001b[0m in \u001b[0;36mdot\u001b[1;34m(*args, **kwargs)\u001b[0m\n",
      "\u001b[1;31mKeyboardInterrupt\u001b[0m: "
     ]
    }
   ],
   "source": [
    "for i in range(n):\n",
    "    for j in range(i + 1, n):\n",
    "        p1= points[i]\n",
    "        p2= points[j]\n",
    "#         outliner_count= 0\n",
    "        D= 0\n",
    "        for p3 in points:            \n",
    "            p1_2d= np.array([p1[0], p1[1]])\n",
    "            p2_2d= np.array([p2[0], p2[1]])\n",
    "            p3_2d= np.array([p3[0], p3[1]])\n",
    "            d= np.linalg.norm(np.cross(p2_2d - p1_2d, p1_2d - p3_2d)) / np.linalg.norm(p2_2d - p1_2d)\n",
    "#             print(d)\n",
    "            D+= d\n",
    "#             if d > threshold:\n",
    "#                 outliner_count+= 1\n",
    "#         print(outliner_count)\n",
    "#         if outliner_count < outliner_count_min:\n",
    "#             result= (p1, p2)\n",
    "#             outliner_count_min= outliner_count\n",
    "        if D < D_min:\n",
    "            result= (p1, p2)\n",
    "            D_min= D\n",
    "# print(\"Min outliner count:\", outliner_count_min)\n",
    "print(\"D min: \", D_min)\n",
    "result"
   ]
  },
  {
   "cell_type": "code",
   "execution_count": null,
   "id": "differential-arrangement",
   "metadata": {},
   "outputs": [],
   "source": [
    "p1= result[0]\n",
    "p2= result[1]\n",
    "p1_2d= np.array([p1[0], p1[1]])\n",
    "p2_2d= np.array([p2[0], p2[1]])"
   ]
  },
  {
   "cell_type": "code",
   "execution_count": null,
   "id": "ranking-classic",
   "metadata": {},
   "outputs": [],
   "source": [
    "points_del= np.delete(points, 2, axis=1)\n",
    "points_del= np.delete(points_del, 2, axis=1)\n",
    "print(points_del[:10])"
   ]
  },
  {
   "cell_type": "code",
   "execution_count": null,
   "id": "transsexual-minneapolis",
   "metadata": {},
   "outputs": [],
   "source": [
    "plt.plot(points_del , 'o', color='black')\n",
    "plt.plot(p1_2d, p2_2d)"
   ]
  },
  {
   "cell_type": "code",
   "execution_count": null,
   "id": "still-aside",
   "metadata": {},
   "outputs": [],
   "source": [
    "def is_on_ground_plane(point, threshold):\n",
    "    point= np.array([point[0], point[1]])\n",
    "    d= np.linalg.norm(np.cross(p2_2d - p1_2d, p1_2d - point)) / np.linalg.norm(p2_2d - p1_2d)\n",
    "    if d < threshold:\n",
    "        return True\n",
    "    return False"
   ]
  },
  {
   "cell_type": "code",
   "execution_count": null,
   "id": "separate-flight",
   "metadata": {},
   "outputs": [],
   "source": [
    "p1= np.array([1.09361e-16, 1.786, 0, 0.01606775])\n",
    "p2= np.array([0.4115986, -5.538728, 0, 0.01622034])\n",
    "\n",
    "print(\"p1 is on the ground plane: \", is_on_ground_plane(p1, 0.05))\n",
    "print(\"p2 is on the ground plane: \", is_on_ground_plane(p2, 0.05))"
   ]
  },
  {
   "cell_type": "code",
   "execution_count": null,
   "id": "flush-hollow",
   "metadata": {},
   "outputs": [],
   "source": []
  }
 ],
 "metadata": {
  "kernelspec": {
   "display_name": "Python 3",
   "language": "python",
   "name": "python3"
  },
  "language_info": {
   "codemirror_mode": {
    "name": "ipython",
    "version": 3
   },
   "file_extension": ".py",
   "mimetype": "text/x-python",
   "name": "python",
   "nbconvert_exporter": "python",
   "pygments_lexer": "ipython3",
   "version": "3.8.8"
  }
 },
 "nbformat": 4,
 "nbformat_minor": 5
}
